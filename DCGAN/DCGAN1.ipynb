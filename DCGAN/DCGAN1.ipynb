{
  "nbformat": 4,
  "nbformat_minor": 0,
  "metadata": {
    "colab": {
      "name": "DCGAN1.ipynb",
      "provenance": [],
      "collapsed_sections": []
    },
    "kernelspec": {
      "name": "python3",
      "display_name": "Python 3"
    }
  },
  "cells": [
    {
      "cell_type": "markdown",
      "metadata": {
        "id": "SI3Y8hnZ4dMT",
        "colab_type": "text"
      },
      "source": [
        "Implemeting the paper arXiv:1511.06434 [DCGAN]"
      ]
    },
    {
      "cell_type": "code",
      "metadata": {
        "id": "ywL-UpYFj-Ht",
        "colab_type": "code",
        "colab": {}
      },
      "source": [
        "import numpy as np\n",
        "import tensorflow as tf\n",
        "import matplotlib.pyplot as plt\n",
        "import imageio\n",
        "import glob\n",
        "import os\n",
        "import time\n",
        "from IPython import display\n",
        "from tensorflow.keras import layers"
      ],
      "execution_count": 0,
      "outputs": []
    },
    {
      "cell_type": "markdown",
      "metadata": {
        "id": "EgoJh_DiwLoA",
        "colab_type": "text"
      },
      "source": [
        "Install the latest version of tensorflow 2 to run the normalize and fit functions"
      ]
    },
    {
      "cell_type": "code",
      "metadata": {
        "id": "hLPnZVeUnOWn",
        "colab_type": "code",
        "colab": {}
      },
      "source": [
        "!pip install tensorflow==2.1.0-rc1\n",
        "tf.__version__"
      ],
      "execution_count": 0,
      "outputs": []
    },
    {
      "cell_type": "code",
      "metadata": {
        "id": "Ov9lD1z8gs9l",
        "colab_type": "code",
        "colab": {}
      },
      "source": [
        "(train_images, train_labels), (_, _) = tf.keras.datasets.mnist.load_data()"
      ],
      "execution_count": 0,
      "outputs": []
    },
    {
      "cell_type": "code",
      "metadata": {
        "id": "Wo-s9FmShNcx",
        "colab_type": "code",
        "colab": {}
      },
      "source": [
        "train = train_images.reshape(train_images.shape[0],28,28,1).astype('float32')\n",
        "train = tf.linalg.normalize(train,axis = 1)"
      ],
      "execution_count": 0,
      "outputs": []
    },
    {
      "cell_type": "code",
      "metadata": {
        "id": "QbWuZkUuhny8",
        "colab_type": "code",
        "colab": {}
      },
      "source": [
        "BUFFER_SIZE = 60000\n",
        "BATCH_SIZE = 256"
      ],
      "execution_count": 0,
      "outputs": []
    },
    {
      "cell_type": "code",
      "metadata": {
        "id": "hLU9Hh-Mh39O",
        "colab_type": "code",
        "colab": {}
      },
      "source": [
        "train_dataset = tf.data.Dataset.from_tensor_slices(train).shuffle(BUFFER_SIZE).batch(BATCH_SIZE)"
      ],
      "execution_count": 0,
      "outputs": []
    },
    {
      "cell_type": "markdown",
      "metadata": {
        "id": "QJoVd1PuvtJ0",
        "colab_type": "text"
      },
      "source": [
        "'Convolve' until the required size that is 28x28x1 is reached"
      ]
    },
    {
      "cell_type": "code",
      "metadata": {
        "id": "0KI6pmtFiKdQ",
        "colab_type": "code",
        "colab": {}
      },
      "source": [
        "def make_generator():\n",
        "  model = tf.keras.Sequential()\n",
        "  model.add(layers.Dense(7*7*256,use_bias = False,input_shape=(100,)))\n",
        "  model.add(layers.BatchNormalization())\n",
        "  model.add(layers.LeakyReLU())\n",
        "\n",
        "  model.add(layers.Reshape((7, 7, 256)))\n",
        "  model.add(layers.Conv2DTranspose(128, (5, 5), strides=(1, 1), padding='same', use_bias=False))\n",
        "  model.add(layers.BatchNormalization())\n",
        "  model.add(layers.LeakyReLU())\n",
        " \n",
        "  model.add(layers.Conv2DTranspose(64, (5, 5), strides=(2, 2), padding='same', use_bias=False))\n",
        "  model.add(layers.BatchNormalization())\n",
        "  model.add(layers.LeakyReLU())\n",
        "\n",
        "  model.add(layers.Conv2DTranspose(1, (5, 5), strides=(2, 2), padding='same', use_bias=False, activation='tanh'))\n",
        "  assert model.output_shape == (None, 28, 28, 1)\n",
        "  return model"
      ],
      "execution_count": 0,
      "outputs": []
    },
    {
      "cell_type": "code",
      "metadata": {
        "id": "wPQV-kTQjttM",
        "colab_type": "code",
        "colab": {}
      },
      "source": [
        "generator = make_generator()\n",
        "noise = tf.random.normal([1,100])\n",
        "gen_img  = generator(noise,training = False)"
      ],
      "execution_count": 0,
      "outputs": []
    },
    {
      "cell_type": "code",
      "metadata": {
        "id": "dLNXLObslUIc",
        "colab_type": "code",
        "outputId": "7991c2c2-e4ad-4931-851f-46e51c3d8d35",
        "colab": {
          "base_uri": "https://localhost:8080/",
          "height": 282
        }
      },
      "source": [
        "plt.imshow(gen_img[0,:,:,0],cmap='gray') # plotting the initial noise"
      ],
      "execution_count": 0,
      "outputs": [
        {
          "output_type": "execute_result",
          "data": {
            "text/plain": [
              "<matplotlib.image.AxesImage at 0x7fd302833a90>"
            ]
          },
          "metadata": {
            "tags": []
          },
          "execution_count": 13
        },
        {
          "output_type": "display_data",
          "data": {
            "image/png": "[encoded data removed]",
            "text/plain": [
              "<Figure size 432x288 with 1 Axes>"
            ]
          },
          "metadata": {
            "tags": []
          }
        }
      ]
    },
    {
      "cell_type": "code",
      "metadata": {
        "id": "lSrugVMSldfZ",
        "colab_type": "code",
        "colab": {}
      },
      "source": [
        "def make_discriminator():\n",
        "    model = tf.keras.Sequential()\n",
        "    model.add(layers.Conv2D(64, (5, 5), strides=(2, 2), padding='same',input_shape=[28, 28, 1]))\n",
        "    model.add(layers.LeakyReLU())\n",
        "    model.add(layers.Dropout(0.3))\n",
        "\n",
        "    model.add(layers.Conv2D(128, (5, 5), strides=(2, 2), padding='same'))\n",
        "    model.add(layers.LeakyReLU())\n",
        "    model.add(layers.Dropout(0.3))\n",
        "\n",
        "    model.add(layers.Flatten())\n",
        "    model.add(layers.Dense(1))\n",
        "\n",
        "    return model"
      ],
      "execution_count": 0,
      "outputs": []
    },
    {
      "cell_type": "code",
      "metadata": {
        "id": "aCp5c7VWmKA_",
        "colab_type": "code",
        "colab": {}
      },
      "source": [
        "discriminator = make_discriminator()\n",
        "decision = discriminator(gen_img)\n",
        "print (decision)"
      ],
      "execution_count": 0,
      "outputs": []
    },
    {
      "cell_type": "code",
      "metadata": {
        "id": "sh5_iWLnoZ1w",
        "colab_type": "code",
        "colab": {}
      },
      "source": [
        "cross_entropy = tf.keras.losses.BinaryCrossentropy(from_logits=True) # initialize the loss funtion to be used"
      ],
      "execution_count": 0,
      "outputs": []
    },
    {
      "cell_type": "code",
      "metadata": {
        "id": "BMpcFcvBoqfN",
        "colab_type": "code",
        "colab": {}
      },
      "source": [
        "def gen_loss(fake):\n",
        "  loss = cross_entropy(tf.ones_like(fake),fake)\n",
        "  return loss\n",
        "\n",
        "def disc_loss(real , fake):\n",
        "  loss = cross_entropy(tf.zeros_like(fake),fake) + cross_entropy(tf.ones_like(real),real)\n",
        "  return loss       "
      ],
      "execution_count": 0,
      "outputs": []
    },
    {
      "cell_type": "code",
      "metadata": {
        "id": "-jkPZ-B2gntv",
        "colab_type": "code",
        "colab": {}
      },
      "source": [
        "gen_optim = tf.keras.optimizers.Adam(1e-4)\n",
        "disc_optim = tf.keras.optimizers.Adam(1e-4)"
      ],
      "execution_count": 0,
      "outputs": []
    },
    {
      "cell_type": "code",
      "metadata": {
        "id": "o7SRtsK883Cs",
        "colab_type": "code",
        "colab": {}
      },
      "source": [
        "@tf.function\n",
        "def train_step(img):\n",
        "    noise = tf.random.normal([BATCH_SIZE, noise = 100])\n",
        "\n",
        "    with tf.GradientTape() as gen_tape, tf.GradientTape() as disc_tape:\n",
        "      generated_images = generator(noise, training=True) # generate the fake\n",
        "\n",
        "      real = discriminator(img, training=True)  # let the discriminator do it's deed\n",
        "      fake = discriminator(generated_images, training=True)\n",
        "\n",
        "      gloss = gen_loss(fake)       # find the losses\n",
        "      dloss = disc_loss(real, fake)\n",
        "\n",
        "    grad_gen = gen_tape.gradient(gloss, generator.trainable_variables) # find the gradients\n",
        "    grad_disc = disc_tape.gradient(dloss, discriminator.trainable_variables)\n",
        "\n",
        "    gen_optim.apply_gradients(zip(grad_gen, generator.trainable_variables))   # update the generator and discriminator parameters\n",
        "    disc_optim.apply_gradients(zip(grad_disc, discriminator.trainable_variables))"
      ],
      "execution_count": 0,
      "outputs": []
    },
    {
      "cell_type": "code",
      "metadata": {
        "id": "bLs0IJiv-mKK",
        "colab_type": "code",
        "colab": {}
      },
      "source": [
        "def train(dataset, epochs):\n",
        "  for epoch in range(epochs):\n",
        "    start = time.time()\n",
        "    for image_batch in dataset:\n",
        "      train_step(image_batch)"
      ],
      "execution_count": 0,
      "outputs": []
    },
    {
      "cell_type": "code",
      "metadata": {
        "id": "Z4o5jL22_tCY",
        "colab_type": "code",
        "colab": {}
      },
      "source": [
        "Epochs = 20\n",
        "\n",
        "\n",
        "train(train_dataset, Epochs)"
      ],
      "execution_count": 0,
      "outputs": []
    }
  ]
}